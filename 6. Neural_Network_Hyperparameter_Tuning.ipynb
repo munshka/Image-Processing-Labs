{
  "nbformat": 4,
  "nbformat_minor": 0,
  "metadata": {
    "colab": {
      "provenance": []
    },
    "kernelspec": {
      "name": "python3",
      "display_name": "Python 3"
    },
    "language_info": {
      "name": "python"
    }
  },
  "cells": [
    {
      "cell_type": "code",
      "execution_count": null,
      "metadata": {
        "id": "1Muq7KG6tzOq"
      },
      "outputs": [],
      "source": [
        "from tensorflow.keras.models import Sequential\n",
        "from tensorflow.keras.layers import Input, Dense\n",
        "from tensorflow.keras.datasets import mnist\n",
        "from tensorflow.keras.utils import to_categorical, plot_model"
      ]
    },
    {
      "cell_type": "code",
      "source": [
        "dataset = mnist.load_data()\n",
        "(X_train, y_train), (X_test, y_test) = dataset\n",
        "\n",
        "print(\"shape of X =\", X_train.shape)\n",
        "print(\"shape of y =\", y_train.shape)"
      ],
      "metadata": {
        "id": "KkMFI27Mt_dj",
        "colab": {
          "base_uri": "https://localhost:8080/"
        },
        "outputId": "830c54fe-08bc-45c6-fad9-f0e36bac68d0"
      },
      "execution_count": null,
      "outputs": [
        {
          "output_type": "stream",
          "name": "stdout",
          "text": [
            "Downloading data from https://storage.googleapis.com/tensorflow/tf-keras-datasets/mnist.npz\n",
            "11490434/11490434 [==============================] - 1s 0us/step\n",
            "shape of X = (60000, 28, 28)\n",
            "shape of y = (60000,)\n"
          ]
        }
      ]
    },
    {
      "cell_type": "code",
      "source": [
        "# Flatten the inputs\n",
        "X_train = X_train.reshape(X_train.shape[0], -1)\n",
        "X_test = X_test.reshape(X_test.shape[0], -1)\n",
        "\n",
        "# Convert the target to one-hot encoding\n",
        "number_of_classes = 10\n",
        "y_train = to_categorical(y_train, num_classes=number_of_classes)\n",
        "y_test = to_categorical(y_test, num_classes=number_of_classes)\n",
        "\n",
        "\n",
        "print(\"shape of X =\", X_train.shape)\n",
        "print(\"shape of y =\", y_train.shape)"
      ],
      "metadata": {
        "id": "OYr0toYruAGE",
        "colab": {
          "base_uri": "https://localhost:8080/"
        },
        "outputId": "5880e57a-a14c-46b7-c7e4-ac4422f31d3d"
      },
      "execution_count": null,
      "outputs": [
        {
          "output_type": "stream",
          "name": "stdout",
          "text": [
            "shape of X = (60000, 784)\n",
            "shape of y = (60000, 10)\n"
          ]
        }
      ]
    },
    {
      "cell_type": "markdown",
      "source": [
        "# Install the keras-tuner library"
      ],
      "metadata": {
        "id": "PNjo8egTuGO2"
      }
    },
    {
      "cell_type": "code",
      "source": [
        "!pip install keras-tuner -q"
      ],
      "metadata": {
        "id": "vf7LZjbpuByF",
        "colab": {
          "base_uri": "https://localhost:8080/"
        },
        "outputId": "60708472-73e0-4e8c-b5e2-e95e87354914"
      },
      "execution_count": null,
      "outputs": [
        {
          "output_type": "stream",
          "name": "stdout",
          "text": [
            "\u001b[?25l     \u001b[90m━━━━━━━━━━━━━━━━━━━━━━━━━━━━━━━━━━━━━━━━\u001b[0m \u001b[32m0.0/176.1 kB\u001b[0m \u001b[31m?\u001b[0m eta \u001b[36m-:--:--\u001b[0m\r\u001b[2K     \u001b[91m━━━━━━━━━━━━━━━━━━━━\u001b[0m\u001b[91m╸\u001b[0m\u001b[90m━━━━━━━━━━━━━━━━━━━\u001b[0m \u001b[32m92.2/176.1 kB\u001b[0m \u001b[31m3.0 MB/s\u001b[0m eta \u001b[36m0:00:01\u001b[0m\r\u001b[2K     \u001b[90m━━━━━━━━━━━━━━━━━━━━━━━━━━━━━━━━━━━━━━━\u001b[0m \u001b[32m176.1/176.1 kB\u001b[0m \u001b[31m3.6 MB/s\u001b[0m eta \u001b[36m0:00:00\u001b[0m\n",
            "\u001b[?25h"
          ]
        }
      ]
    },
    {
      "cell_type": "code",
      "source": [
        "def build_model(hp):\n",
        "    model = Sequential()\n",
        "    model.add( Input(shape = (784,)) )\n",
        "    number_of_layers = hp.Int(\"num_layers\", 1, 3)\n",
        "    for i in range(number_of_layers):\n",
        "      units = hp.Int(f\"units_{i}\", min_value=5, max_value=20, step=5)\n",
        "      activation = hp.Choice(\"activation\", [\"relu\", \"tanh\", \"sigmoid\"])\n",
        "      model.add( Dense(units, activation=activation) ) #hidden layer\n",
        "\n",
        "    model.add( Dense(10, activation='softmax') ) #output layer, activation must be softmax\n",
        "\n",
        "    model.compile(\n",
        "        optimizer=\"adam\", loss=\"categorical_crossentropy\", metrics=[\"accuracy\"],\n",
        "    )\n",
        "    return model"
      ],
      "metadata": {
        "id": "PitmN_A2uMrE"
      },
      "execution_count": null,
      "outputs": []
    },
    {
      "cell_type": "code",
      "source": [
        "import keras_tuner\n",
        "\n",
        "# build_model(keras_tuner.HyperParameters())"
      ],
      "metadata": {
        "id": "dYxnxm_mvTe-"
      },
      "execution_count": null,
      "outputs": []
    },
    {
      "cell_type": "code",
      "source": [
        "tuner = keras_tuner.RandomSearch(\n",
        "    hypermodel=build_model,\n",
        "    objective=\"val_accuracy\",\n",
        "    max_trials=3,\n",
        "    executions_per_trial=1,\n",
        "    overwrite=True,\n",
        "    directory=\"my_dir\",\n",
        "    project_name=\"helloworld\",\n",
        ")"
      ],
      "metadata": {
        "id": "4nVFXG4gvdc0"
      },
      "execution_count": null,
      "outputs": []
    },
    {
      "cell_type": "code",
      "source": [
        "tuner.search_space_summary()"
      ],
      "metadata": {
        "id": "sALWhzyuvtHG",
        "colab": {
          "base_uri": "https://localhost:8080/"
        },
        "outputId": "2cd731b8-3065-4e19-ea12-414dd7765d19"
      },
      "execution_count": null,
      "outputs": [
        {
          "output_type": "stream",
          "name": "stdout",
          "text": [
            "Search space summary\n",
            "Default search space size: 3\n",
            "num_layers (Int)\n",
            "{'default': None, 'conditions': [], 'min_value': 1, 'max_value': 3, 'step': 1, 'sampling': 'linear'}\n",
            "units_0 (Int)\n",
            "{'default': None, 'conditions': [], 'min_value': 5, 'max_value': 20, 'step': 5, 'sampling': 'linear'}\n",
            "activation (Choice)\n",
            "{'default': 'relu', 'conditions': [], 'values': ['relu', 'tanh', 'sigmoid'], 'ordered': False}\n"
          ]
        }
      ]
    },
    {
      "cell_type": "code",
      "source": [
        "tuner.search(X_train, y_train, epochs=5, validation_data=(X_test, y_test))"
      ],
      "metadata": {
        "id": "hIxWcp9Avwle",
        "colab": {
          "base_uri": "https://localhost:8080/"
        },
        "outputId": "7fd8a1bc-2710-400e-e624-5b3295cc388b"
      },
      "execution_count": null,
      "outputs": [
        {
          "output_type": "stream",
          "name": "stdout",
          "text": [
            "Trial 3 Complete [00h 00m 42s]\n",
            "val_accuracy: 0.7555999755859375\n",
            "\n",
            "Best val_accuracy So Far: 0.836899995803833\n",
            "Total elapsed time: 00h 01m 50s\n"
          ]
        }
      ]
    },
    {
      "cell_type": "code",
      "source": [
        "tuner.results_summary()"
      ],
      "metadata": {
        "id": "vTR0Uj4Iv7FG",
        "colab": {
          "base_uri": "https://localhost:8080/"
        },
        "outputId": "8d0566aa-6bc7-45a4-f9f6-9e5ea7f9a047"
      },
      "execution_count": null,
      "outputs": [
        {
          "output_type": "stream",
          "name": "stdout",
          "text": [
            "Results summary\n",
            "Results in my_dir/helloworld\n",
            "Showing 10 best trials\n",
            "Objective(name=\"val_accuracy\", direction=\"max\")\n",
            "\n",
            "Trial 1 summary\n",
            "Hyperparameters:\n",
            "num_layers: 1\n",
            "units_0: 10\n",
            "activation: sigmoid\n",
            "Score: 0.836899995803833\n",
            "\n",
            "Trial 2 summary\n",
            "Hyperparameters:\n",
            "num_layers: 3\n",
            "units_0: 10\n",
            "activation: relu\n",
            "units_1: 5\n",
            "units_2: 5\n",
            "Score: 0.7555999755859375\n",
            "\n",
            "Trial 0 summary\n",
            "Hyperparameters:\n",
            "num_layers: 1\n",
            "units_0: 5\n",
            "activation: relu\n",
            "Score: 0.11349999904632568\n"
          ]
        }
      ]
    },
    {
      "cell_type": "code",
      "source": [
        "tuner.get_best_hyperparameters()[0].values"
      ],
      "metadata": {
        "id": "nzbI2WTPxEMG",
        "colab": {
          "base_uri": "https://localhost:8080/"
        },
        "outputId": "55a37e2f-b7e8-4905-d71b-cd1dcf9ce307"
      },
      "execution_count": null,
      "outputs": [
        {
          "output_type": "execute_result",
          "data": {
            "text/plain": [
              "{'num_layers': 1, 'units_0': 10, 'activation': 'sigmoid'}"
            ]
          },
          "metadata": {},
          "execution_count": 11
        }
      ]
    },
    {
      "cell_type": "code",
      "source": [
        "model = tuner.get_best_models(num_models=1)[0]"
      ],
      "metadata": {
        "id": "Mp9QI7UQ45vD"
      },
      "execution_count": null,
      "outputs": []
    },
    {
      "cell_type": "code",
      "source": [
        "model.summary()"
      ],
      "metadata": {
        "id": "LQ3llnF15Udr",
        "colab": {
          "base_uri": "https://localhost:8080/"
        },
        "outputId": "b765c655-4592-4a23-e79f-dc21ceb4bc50"
      },
      "execution_count": null,
      "outputs": [
        {
          "output_type": "stream",
          "name": "stdout",
          "text": [
            "Model: \"sequential\"\n",
            "_________________________________________________________________\n",
            " Layer (type)                Output Shape              Param #   \n",
            "=================================================================\n",
            " dense (Dense)               (None, 10)                7850      \n",
            "                                                                 \n",
            " dense_1 (Dense)             (None, 10)                110       \n",
            "                                                                 \n",
            "=================================================================\n",
            "Total params: 7,960\n",
            "Trainable params: 7,960\n",
            "Non-trainable params: 0\n",
            "_________________________________________________________________\n"
          ]
        }
      ]
    },
    {
      "cell_type": "code",
      "source": [
        "model.fit(X_train, y_train, epochs=20, initial_epoch=5, validation_data=(X_test, y_test))"
      ],
      "metadata": {
        "collapsed": true,
        "id": "vztcpPmo5WlL",
        "colab": {
          "base_uri": "https://localhost:8080/"
        },
        "outputId": "d3bd72c0-6326-4d24-f836-87abacccfbd7"
      },
      "execution_count": null,
      "outputs": [
        {
          "output_type": "stream",
          "name": "stdout",
          "text": [
            "Epoch 6/20\n",
            "1875/1875 [==============================] - 5s 2ms/step - loss: 0.5919 - accuracy: 0.8264 - val_loss: 0.5629 - val_accuracy: 0.8359\n",
            "Epoch 7/20\n",
            "1875/1875 [==============================] - 5s 3ms/step - loss: 0.5861 - accuracy: 0.8277 - val_loss: 0.5513 - val_accuracy: 0.8328\n",
            "Epoch 8/20\n",
            "1875/1875 [==============================] - 8s 4ms/step - loss: 0.5550 - accuracy: 0.8379 - val_loss: 0.5102 - val_accuracy: 0.8562\n",
            "Epoch 9/20\n",
            "1875/1875 [==============================] - 4s 2ms/step - loss: 0.5404 - accuracy: 0.8442 - val_loss: 0.5431 - val_accuracy: 0.8377\n",
            "Epoch 10/20\n",
            "1875/1875 [==============================] - 5s 3ms/step - loss: 0.5340 - accuracy: 0.8430 - val_loss: 0.5115 - val_accuracy: 0.8467\n",
            "Epoch 11/20\n",
            "1875/1875 [==============================] - 4s 2ms/step - loss: 0.5404 - accuracy: 0.8400 - val_loss: 0.5644 - val_accuracy: 0.8278\n",
            "Epoch 12/20\n",
            "1875/1875 [==============================] - 4s 2ms/step - loss: 0.5400 - accuracy: 0.8442 - val_loss: 0.5676 - val_accuracy: 0.8341\n",
            "Epoch 13/20\n",
            "1875/1875 [==============================] - 5s 3ms/step - loss: 0.5121 - accuracy: 0.8509 - val_loss: 0.5187 - val_accuracy: 0.8411\n",
            "Epoch 14/20\n",
            "1875/1875 [==============================] - 4s 2ms/step - loss: 0.5302 - accuracy: 0.8452 - val_loss: 0.5604 - val_accuracy: 0.8281\n",
            "Epoch 15/20\n",
            "1875/1875 [==============================] - 4s 2ms/step - loss: 0.5299 - accuracy: 0.8462 - val_loss: 0.4822 - val_accuracy: 0.8620\n",
            "Epoch 16/20\n",
            "1875/1875 [==============================] - 5s 2ms/step - loss: 0.5055 - accuracy: 0.8552 - val_loss: 0.5096 - val_accuracy: 0.8426\n",
            "Epoch 17/20\n",
            "1875/1875 [==============================] - 4s 2ms/step - loss: 0.4990 - accuracy: 0.8531 - val_loss: 0.5352 - val_accuracy: 0.8406\n",
            "Epoch 18/20\n",
            "1875/1875 [==============================] - 4s 2ms/step - loss: 0.4946 - accuracy: 0.8537 - val_loss: 0.4673 - val_accuracy: 0.8639\n",
            "Epoch 19/20\n",
            "1875/1875 [==============================] - 5s 2ms/step - loss: 0.5033 - accuracy: 0.8562 - val_loss: 0.4756 - val_accuracy: 0.8640\n",
            "Epoch 20/20\n",
            "1875/1875 [==============================] - 4s 2ms/step - loss: 0.4860 - accuracy: 0.8608 - val_loss: 0.4731 - val_accuracy: 0.8632\n"
          ]
        },
        {
          "output_type": "execute_result",
          "data": {
            "text/plain": [
              "<keras.callbacks.History at 0x7ba900e99690>"
            ]
          },
          "metadata": {},
          "execution_count": 14
        }
      ]
    }
  ]
}